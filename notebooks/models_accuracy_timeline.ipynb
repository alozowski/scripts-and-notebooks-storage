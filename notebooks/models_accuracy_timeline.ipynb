{
 "cells": [
  {
   "cell_type": "markdown",
   "id": "968cbba2-14e2-4af6-b96f-b0df1e76869b",
   "metadata": {},
   "source": [
    "# 📊 Model Accuracy Timeline\n",
    "\n",
    "Visualizes the accuracy of open- and closed-source language models over time.\n",
    "\n",
    "This tool is designed to compare model performance on documentation-based extractive QA tasks.\n",
    "\n",
    "### 🔧 Tools Used:\n",
    "- [Yourbench](https://github.com/huggingface/yourbench) – to create the evaluation dataset. I created a MCQ one.\n",
    "- [Lighteval](https://github.com/huggingface/lighteval) – to generate the detailed results dataset. Used [custom_yourbench_task_mcq.py](https://github.com/huggingface/lighteval/blob/main/examples/custom_tasks_templates/custom_yourbench_task_mcq.py) for a MCQ dataset.\n",
    "\n",
    "⚠️ Replace private dataset paths with your own or public versions if sharing."
   ]
  },
  {
   "cell_type": "code",
   "execution_count": null,
   "id": "70357907-54b0-4cd2-8145-1755236b4a7e",
   "metadata": {},
   "outputs": [],
   "source": [
    "# Imports and setup\n",
    "import pandas as pd\n",
    "import json\n",
    "from datasets import load_dataset\n",
    "from huggingface_hub import HfApi\n",
    "import plotly.graph_objects as go\n",
    "import plotly.io as pio\n",
    "\n",
    "api = HfApi()"
   ]
  },
  {
   "cell_type": "code",
   "execution_count": 2,
   "id": "3670a773-7b87-4369-b633-ed1aef8c982b",
   "metadata": {},
   "outputs": [],
   "source": [
    "# Model configuration\n",
    "model_ids = [\n",
    "    \"Qwen/Qwen3-32B\",\n",
    "    \"deepseek-ai/DeepSeek-R1\",\n",
    "    \"google/gemma-2-2b-it\",\n",
    "    \"google/gemma-3-27b-it\",\n",
    "    \"mistralai/Mistral-7B-Instruct-v0.3\",\n",
    "    \"meta-llama/Llama-3.1-8B-Instruct\",\n",
    "    \"meta-llama/Llama-3.3-70B-Instruct\",\n",
    "    \"meta-llama/Llama-4-Scout-17B-16E-Instruct\"\n",
    "]"
   ]
  },
  {
   "cell_type": "code",
   "execution_count": 3,
   "id": "7d53eb86-a991-44d5-963c-2afcc189d40e",
   "metadata": {},
   "outputs": [],
   "source": [
    "# Update with your public dataset paths\n",
    "MODEL_DATASETS = {\n",
    "    \"Qwen3-32B\": \"your_namespace/details_Qwen3-32B\",\n",
    "    \"DeepSeek-R1\": \"your_namespace/details_DeepSeek-R1\",\n",
    "    \"gemma-2-2b-it\": \"your_namespace/details_gemma-2-2b-it\",\n",
    "    \"gemma-3-27b-it\": \"your_namespace/details_gemma-3-27b-it\",\n",
    "    \"Mistral-7B-Instruct-v0.3\": \"your_namespace/details_Mistral-7B-Instruct-v0.3\",\n",
    "    \"Llama-3.1-8B-Instruct\": \"your_namespace/details_Llama-3.1-8B-Instruct\",\n",
    "    \"Llama-3.3-70B-Instruct\": \"your_namespace/details_Llama-3.3-70B-Instruct\",\n",
    "    \"Llama-4-Scout-17B-16E-Instruct\": \"your_namespace/details_Llama-4-Scout-17B-16E-Instruct\",\n",
    "}"
   ]
  },
  {
   "cell_type": "code",
   "execution_count": 4,
   "id": "188e27d6-e187-41e3-adc3-c8556ac860cb",
   "metadata": {},
   "outputs": [],
   "source": [
    "# Short names for display\n",
    "HF_TO_SHORT = {hf_id.split(\"/\")[-1]: name for hf_id, name in zip(model_ids, MODEL_DATASETS)}"
   ]
  },
  {
   "cell_type": "code",
   "execution_count": 5,
   "id": "4106ffb1-7a13-49f3-afbb-8b5d91fd3d6e",
   "metadata": {},
   "outputs": [],
   "source": [
    "# Get upload dates from Hugging Face Hub\n",
    "upload_dates = {}\n",
    "for model_id in model_ids:\n",
    "    info = api.model_info(model_id)\n",
    "    short_name = model_id.split(\"/\")[-1]\n",
    "    upload_dates[HF_TO_SHORT[short_name]] = info.created_at.strftime(\"%Y-%m-%d\")"
   ]
  },
  {
   "cell_type": "code",
   "execution_count": 6,
   "id": "5778ed4c-5e18-4b0b-a684-f8e310839c81",
   "metadata": {},
   "outputs": [],
   "source": [
    "# Extract accuracy metric from dataset\n",
    "def extract_accuracy(dataset_name: str) -> float:\n",
    "    try:\n",
    "        ds = load_dataset(dataset_name, name=\"results\", split=\"latest\", streaming=True)\n",
    "        df = pd.DataFrame(ds)\n",
    "        results = json.loads(df[\"results\"][0])\n",
    "        return round(results[\"all\"][\"extractive_match\"], 3)\n",
    "    except Exception as e:\n",
    "        print(f\"Error loading {dataset_name}: {e}\")\n",
    "        return None"
   ]
  },
  {
   "cell_type": "code",
   "execution_count": 11,
   "id": "9b4f2536-41a3-46ad-8d9d-6a3f23439716",
   "metadata": {},
   "outputs": [],
   "source": [
    "# Assemble data into a table\n",
    "rows = []\n",
    "\n",
    "for name, dataset in MODEL_DATASETS.items():\n",
    "    acc = extract_accuracy(dataset)\n",
    "    rows.append({\n",
    "        \"model\": name,\n",
    "        \"accuracy\": acc,\n",
    "        \"date\": upload_dates.get(name, \"N/A\"),\n",
    "        \"source\": \"open-source\"\n",
    "    })\n",
    "\n",
    "# Add closed-source models manually\n",
    "rows += [\n",
    "    {\n",
    "        \"model\": \"GPT-4.1\",\n",
    "        \"accuracy\": extract_accuracy(\"your_namespace/details_gpt-4.1\"),\n",
    "        \"date\": \"2025-04-14\",\n",
    "        \"source\": \"closed-source\"\n",
    "    },\n",
    "    {\n",
    "        \"model\": \"claude-3.5-haiku\",\n",
    "        \"accuracy\": extract_accuracy(\"your_namespace/details_claude-3.5-haiku\"),\n",
    "        \"date\": \"2024-10-22\",\n",
    "        \"source\": \"closed-source\"\n",
    "    }\n",
    "]"
   ]
  },
  {
   "cell_type": "code",
   "execution_count": 14,
   "id": "34ae08ba-fda9-497e-980b-8d486add023b",
   "metadata": {},
   "outputs": [
    {
     "data": {
      "text/html": [
       "<div>\n",
       "<style scoped>\n",
       "    .dataframe tbody tr th:only-of-type {\n",
       "        vertical-align: middle;\n",
       "    }\n",
       "\n",
       "    .dataframe tbody tr th {\n",
       "        vertical-align: top;\n",
       "    }\n",
       "\n",
       "    .dataframe thead th {\n",
       "        text-align: right;\n",
       "    }\n",
       "</style>\n",
       "<table border=\"1\" class=\"dataframe\">\n",
       "  <thead>\n",
       "    <tr style=\"text-align: right;\">\n",
       "      <th></th>\n",
       "      <th>model</th>\n",
       "      <th>accuracy</th>\n",
       "      <th>date</th>\n",
       "      <th>source</th>\n",
       "    </tr>\n",
       "  </thead>\n",
       "  <tbody>\n",
       "    <tr>\n",
       "      <th>0</th>\n",
       "      <td>DeepSeek-R1</td>\n",
       "      <td>0.892</td>\n",
       "      <td>2025-01-20</td>\n",
       "      <td>open-source</td>\n",
       "    </tr>\n",
       "    <tr>\n",
       "      <th>1</th>\n",
       "      <td>Qwen3-32B</td>\n",
       "      <td>0.877</td>\n",
       "      <td>2025-04-27</td>\n",
       "      <td>open-source</td>\n",
       "    </tr>\n",
       "    <tr>\n",
       "      <th>2</th>\n",
       "      <td>GPT-4.1</td>\n",
       "      <td>0.877</td>\n",
       "      <td>2025-04-14</td>\n",
       "      <td>closed-source</td>\n",
       "    </tr>\n",
       "    <tr>\n",
       "      <th>3</th>\n",
       "      <td>gemma-3-27b-it</td>\n",
       "      <td>0.846</td>\n",
       "      <td>2025-03-01</td>\n",
       "      <td>open-source</td>\n",
       "    </tr>\n",
       "    <tr>\n",
       "      <th>4</th>\n",
       "      <td>Llama-3.3-70B-Instruct</td>\n",
       "      <td>0.800</td>\n",
       "      <td>2024-11-26</td>\n",
       "      <td>open-source</td>\n",
       "    </tr>\n",
       "    <tr>\n",
       "      <th>5</th>\n",
       "      <td>claude-3.5-haiku</td>\n",
       "      <td>0.800</td>\n",
       "      <td>2024-10-22</td>\n",
       "      <td>closed-source</td>\n",
       "    </tr>\n",
       "    <tr>\n",
       "      <th>6</th>\n",
       "      <td>Llama-4-Scout-17B-16E-Instruct</td>\n",
       "      <td>0.738</td>\n",
       "      <td>2025-04-02</td>\n",
       "      <td>open-source</td>\n",
       "    </tr>\n",
       "    <tr>\n",
       "      <th>7</th>\n",
       "      <td>Mistral-7B-Instruct-v0.3</td>\n",
       "      <td>0.615</td>\n",
       "      <td>2024-05-22</td>\n",
       "      <td>open-source</td>\n",
       "    </tr>\n",
       "    <tr>\n",
       "      <th>8</th>\n",
       "      <td>Llama-3.1-8B-Instruct</td>\n",
       "      <td>0.615</td>\n",
       "      <td>2024-07-18</td>\n",
       "      <td>open-source</td>\n",
       "    </tr>\n",
       "    <tr>\n",
       "      <th>9</th>\n",
       "      <td>gemma-2-2b-it</td>\n",
       "      <td>0.585</td>\n",
       "      <td>2024-07-16</td>\n",
       "      <td>open-source</td>\n",
       "    </tr>\n",
       "  </tbody>\n",
       "</table>\n",
       "</div>"
      ],
      "text/plain": [
       "                            model  accuracy        date         source\n",
       "0                     DeepSeek-R1     0.892  2025-01-20    open-source\n",
       "1                       Qwen3-32B     0.877  2025-04-27    open-source\n",
       "2                         GPT-4.1     0.877  2025-04-14  closed-source\n",
       "3                  gemma-3-27b-it     0.846  2025-03-01    open-source\n",
       "4          Llama-3.3-70B-Instruct     0.800  2024-11-26    open-source\n",
       "5                claude-3.5-haiku     0.800  2024-10-22  closed-source\n",
       "6  Llama-4-Scout-17B-16E-Instruct     0.738  2025-04-02    open-source\n",
       "7        Mistral-7B-Instruct-v0.3     0.615  2024-05-22    open-source\n",
       "8           Llama-3.1-8B-Instruct     0.615  2024-07-18    open-source\n",
       "9                   gemma-2-2b-it     0.585  2024-07-16    open-source"
      ]
     },
     "execution_count": 14,
     "metadata": {},
     "output_type": "execute_result"
    }
   ],
   "source": [
    "results_df = pd.DataFrame(rows)\n",
    "results_df = results_df.sort_values(by=\"accuracy\", ascending=False).reset_index(drop=True)\n",
    "results_df"
   ]
  },
  {
   "cell_type": "code",
   "execution_count": 15,
   "id": "ca9599ce-8bf7-4277-af99-39f5abc1fe3e",
   "metadata": {},
   "outputs": [],
   "source": [
    "# Prepare data for visualization\n",
    "results_df[\"date\"] = pd.to_datetime(results_df[\"date\"])\n",
    "results_sorted = results_df.sort_values(by=\"date\")\n",
    "\n",
    "position_map = {\n",
    "    \"Mistral-7B-Instruct-v0.3\": \"middle left\",\n",
    "    \"Llama-3.3-70B-Instruct\": \"bottom center\",\n",
    "    \"GPT-4.1\": \"bottom left\",\n",
    "}\n",
    "text_positions = [position_map.get(m, \"top right\") for m in results_sorted[\"model\"]]\n",
    "\n",
    "open_df = results_sorted[results_sorted[\"source\"] == \"open-source\"]\n",
    "closed_df = results_sorted[results_sorted[\"source\"] == \"closed-source\"]"
   ]
  },
  {
   "cell_type": "code",
   "execution_count": 16,
   "id": "03cac64c-27aa-42fc-bbfb-37c1e2f5d6f7",
   "metadata": {},
   "outputs": [
    {
     "data": {
      "application/vnd.plotly.v1+json": {
       "config": {
        "plotlyServerURL": "https://plot.ly"
       },
       "data": [
        {
         "hoverinfo": "text",
         "hovertext": [
          "Mistral-7B-Instruct-v0.3",
          "gemma-2-2b-it",
          "Llama-3.1-8B-Instruct",
          "Llama-3.3-70B-Instruct",
          "DeepSeek-R1",
          "gemma-3-27b-it",
          "Llama-4-Scout-17B-16E-Instruct",
          "Qwen3-32B"
         ],
         "marker": {
          "color": "blue",
          "line": {
           "color": "DarkSlateGrey",
           "width": 1
          },
          "size": 12
         },
         "mode": "markers+text",
         "name": "open-source",
         "text": [
          "Mistral-7B-Instruct-v0.3",
          "gemma-2-2b-it",
          "Llama-3.1-8B-Instruct",
          "Llama-3.3-70B-Instruct",
          "DeepSeek-R1",
          "gemma-3-27b-it",
          "Llama-4-Scout-17B-16E-Instruct",
          "Qwen3-32B"
         ],
         "textfont": {
          "size": 11
         },
         "textposition": [
          "middle left",
          "top right",
          "top right",
          "bottom center",
          "top right",
          "top right",
          "top right",
          "top right"
         ],
         "type": "scatter",
         "x": [
          "2024-05-22T00:00:00.000000000",
          "2024-07-16T00:00:00.000000000",
          "2024-07-18T00:00:00.000000000",
          "2024-11-26T00:00:00.000000000",
          "2025-01-20T00:00:00.000000000",
          "2025-03-01T00:00:00.000000000",
          "2025-04-02T00:00:00.000000000",
          "2025-04-27T00:00:00.000000000"
         ],
         "y": {
          "bdata": "rkfhehSu4z+4HoXrUbjiP65H4XoUruM/mpmZmZmZ6T8lBoGVQ4vsP99PjZduEus/BFYOLbKd5z+q8dJNYhDsPw==",
          "dtype": "f8"
         }
        },
        {
         "hoverinfo": "text",
         "hovertext": [
          "claude-3.5-haiku",
          "GPT-4.1"
         ],
         "marker": {
          "color": "red",
          "line": {
           "color": "DarkSlateGrey",
           "width": 1
          },
          "size": 12
         },
         "mode": "markers+text",
         "name": "closed-source",
         "text": [
          "claude-3.5-haiku",
          "GPT-4.1"
         ],
         "textfont": {
          "size": 11
         },
         "textposition": [
          "top right",
          "bottom left"
         ],
         "type": "scatter",
         "x": [
          "2024-10-22T00:00:00.000000000",
          "2025-04-14T00:00:00.000000000"
         ],
         "y": {
          "bdata": "mpmZmZmZ6T+q8dJNYhDsPw==",
          "dtype": "f8"
         }
        },
        {
         "line": {
          "color": "gray",
          "dash": "dash",
          "width": 2
         },
         "mode": "lines",
         "name": "Accuracy Trend",
         "type": "scatter",
         "x": [
          "2024-05-22T00:00:00.000000000",
          "2024-07-16T00:00:00.000000000",
          "2024-07-18T00:00:00.000000000",
          "2024-10-22T00:00:00.000000000",
          "2024-11-26T00:00:00.000000000",
          "2025-01-20T00:00:00.000000000",
          "2025-03-01T00:00:00.000000000",
          "2025-04-02T00:00:00.000000000",
          "2025-04-14T00:00:00.000000000",
          "2025-04-27T00:00:00.000000000"
         ],
         "y": {
          "bdata": "rkfhehSu4z+4HoXrUbjiP65H4XoUruM/mpmZmZmZ6T+amZmZmZnpPyUGgZVDi+w/30+Nl24S6z8EVg4tsp3nP6rx0k1iEOw/qvHSTWIQ7D8=",
          "dtype": "f8"
         }
        }
       ],
       "layout": {
        "height": 600,
        "margin": {
         "b": 40,
         "l": 40,
         "r": 40,
         "t": 50
        },
        "template": {
         "data": {
          "bar": [
           {
            "error_x": {
             "color": "#2a3f5f"
            },
            "error_y": {
             "color": "#2a3f5f"
            },
            "marker": {
             "line": {
              "color": "#E5ECF6",
              "width": 0.5
             },
             "pattern": {
              "fillmode": "overlay",
              "size": 10,
              "solidity": 0.2
             }
            },
            "type": "bar"
           }
          ],
          "barpolar": [
           {
            "marker": {
             "line": {
              "color": "#E5ECF6",
              "width": 0.5
             },
             "pattern": {
              "fillmode": "overlay",
              "size": 10,
              "solidity": 0.2
             }
            },
            "type": "barpolar"
           }
          ],
          "carpet": [
           {
            "aaxis": {
             "endlinecolor": "#2a3f5f",
             "gridcolor": "white",
             "linecolor": "white",
             "minorgridcolor": "white",
             "startlinecolor": "#2a3f5f"
            },
            "baxis": {
             "endlinecolor": "#2a3f5f",
             "gridcolor": "white",
             "linecolor": "white",
             "minorgridcolor": "white",
             "startlinecolor": "#2a3f5f"
            },
            "type": "carpet"
           }
          ],
          "choropleth": [
           {
            "colorbar": {
             "outlinewidth": 0,
             "ticks": ""
            },
            "type": "choropleth"
           }
          ],
          "contour": [
           {
            "colorbar": {
             "outlinewidth": 0,
             "ticks": ""
            },
            "colorscale": [
             [
              0,
              "#0d0887"
             ],
             [
              0.1111111111111111,
              "#46039f"
             ],
             [
              0.2222222222222222,
              "#7201a8"
             ],
             [
              0.3333333333333333,
              "#9c179e"
             ],
             [
              0.4444444444444444,
              "#bd3786"
             ],
             [
              0.5555555555555556,
              "#d8576b"
             ],
             [
              0.6666666666666666,
              "#ed7953"
             ],
             [
              0.7777777777777778,
              "#fb9f3a"
             ],
             [
              0.8888888888888888,
              "#fdca26"
             ],
             [
              1,
              "#f0f921"
             ]
            ],
            "type": "contour"
           }
          ],
          "contourcarpet": [
           {
            "colorbar": {
             "outlinewidth": 0,
             "ticks": ""
            },
            "type": "contourcarpet"
           }
          ],
          "heatmap": [
           {
            "colorbar": {
             "outlinewidth": 0,
             "ticks": ""
            },
            "colorscale": [
             [
              0,
              "#0d0887"
             ],
             [
              0.1111111111111111,
              "#46039f"
             ],
             [
              0.2222222222222222,
              "#7201a8"
             ],
             [
              0.3333333333333333,
              "#9c179e"
             ],
             [
              0.4444444444444444,
              "#bd3786"
             ],
             [
              0.5555555555555556,
              "#d8576b"
             ],
             [
              0.6666666666666666,
              "#ed7953"
             ],
             [
              0.7777777777777778,
              "#fb9f3a"
             ],
             [
              0.8888888888888888,
              "#fdca26"
             ],
             [
              1,
              "#f0f921"
             ]
            ],
            "type": "heatmap"
           }
          ],
          "histogram": [
           {
            "marker": {
             "pattern": {
              "fillmode": "overlay",
              "size": 10,
              "solidity": 0.2
             }
            },
            "type": "histogram"
           }
          ],
          "histogram2d": [
           {
            "colorbar": {
             "outlinewidth": 0,
             "ticks": ""
            },
            "colorscale": [
             [
              0,
              "#0d0887"
             ],
             [
              0.1111111111111111,
              "#46039f"
             ],
             [
              0.2222222222222222,
              "#7201a8"
             ],
             [
              0.3333333333333333,
              "#9c179e"
             ],
             [
              0.4444444444444444,
              "#bd3786"
             ],
             [
              0.5555555555555556,
              "#d8576b"
             ],
             [
              0.6666666666666666,
              "#ed7953"
             ],
             [
              0.7777777777777778,
              "#fb9f3a"
             ],
             [
              0.8888888888888888,
              "#fdca26"
             ],
             [
              1,
              "#f0f921"
             ]
            ],
            "type": "histogram2d"
           }
          ],
          "histogram2dcontour": [
           {
            "colorbar": {
             "outlinewidth": 0,
             "ticks": ""
            },
            "colorscale": [
             [
              0,
              "#0d0887"
             ],
             [
              0.1111111111111111,
              "#46039f"
             ],
             [
              0.2222222222222222,
              "#7201a8"
             ],
             [
              0.3333333333333333,
              "#9c179e"
             ],
             [
              0.4444444444444444,
              "#bd3786"
             ],
             [
              0.5555555555555556,
              "#d8576b"
             ],
             [
              0.6666666666666666,
              "#ed7953"
             ],
             [
              0.7777777777777778,
              "#fb9f3a"
             ],
             [
              0.8888888888888888,
              "#fdca26"
             ],
             [
              1,
              "#f0f921"
             ]
            ],
            "type": "histogram2dcontour"
           }
          ],
          "mesh3d": [
           {
            "colorbar": {
             "outlinewidth": 0,
             "ticks": ""
            },
            "type": "mesh3d"
           }
          ],
          "parcoords": [
           {
            "line": {
             "colorbar": {
              "outlinewidth": 0,
              "ticks": ""
             }
            },
            "type": "parcoords"
           }
          ],
          "pie": [
           {
            "automargin": true,
            "type": "pie"
           }
          ],
          "scatter": [
           {
            "fillpattern": {
             "fillmode": "overlay",
             "size": 10,
             "solidity": 0.2
            },
            "type": "scatter"
           }
          ],
          "scatter3d": [
           {
            "line": {
             "colorbar": {
              "outlinewidth": 0,
              "ticks": ""
             }
            },
            "marker": {
             "colorbar": {
              "outlinewidth": 0,
              "ticks": ""
             }
            },
            "type": "scatter3d"
           }
          ],
          "scattercarpet": [
           {
            "marker": {
             "colorbar": {
              "outlinewidth": 0,
              "ticks": ""
             }
            },
            "type": "scattercarpet"
           }
          ],
          "scattergeo": [
           {
            "marker": {
             "colorbar": {
              "outlinewidth": 0,
              "ticks": ""
             }
            },
            "type": "scattergeo"
           }
          ],
          "scattergl": [
           {
            "marker": {
             "colorbar": {
              "outlinewidth": 0,
              "ticks": ""
             }
            },
            "type": "scattergl"
           }
          ],
          "scattermap": [
           {
            "marker": {
             "colorbar": {
              "outlinewidth": 0,
              "ticks": ""
             }
            },
            "type": "scattermap"
           }
          ],
          "scattermapbox": [
           {
            "marker": {
             "colorbar": {
              "outlinewidth": 0,
              "ticks": ""
             }
            },
            "type": "scattermapbox"
           }
          ],
          "scatterpolar": [
           {
            "marker": {
             "colorbar": {
              "outlinewidth": 0,
              "ticks": ""
             }
            },
            "type": "scatterpolar"
           }
          ],
          "scatterpolargl": [
           {
            "marker": {
             "colorbar": {
              "outlinewidth": 0,
              "ticks": ""
             }
            },
            "type": "scatterpolargl"
           }
          ],
          "scatterternary": [
           {
            "marker": {
             "colorbar": {
              "outlinewidth": 0,
              "ticks": ""
             }
            },
            "type": "scatterternary"
           }
          ],
          "surface": [
           {
            "colorbar": {
             "outlinewidth": 0,
             "ticks": ""
            },
            "colorscale": [
             [
              0,
              "#0d0887"
             ],
             [
              0.1111111111111111,
              "#46039f"
             ],
             [
              0.2222222222222222,
              "#7201a8"
             ],
             [
              0.3333333333333333,
              "#9c179e"
             ],
             [
              0.4444444444444444,
              "#bd3786"
             ],
             [
              0.5555555555555556,
              "#d8576b"
             ],
             [
              0.6666666666666666,
              "#ed7953"
             ],
             [
              0.7777777777777778,
              "#fb9f3a"
             ],
             [
              0.8888888888888888,
              "#fdca26"
             ],
             [
              1,
              "#f0f921"
             ]
            ],
            "type": "surface"
           }
          ],
          "table": [
           {
            "cells": {
             "fill": {
              "color": "#EBF0F8"
             },
             "line": {
              "color": "white"
             }
            },
            "header": {
             "fill": {
              "color": "#C8D4E3"
             },
             "line": {
              "color": "white"
             }
            },
            "type": "table"
           }
          ]
         },
         "layout": {
          "annotationdefaults": {
           "arrowcolor": "#2a3f5f",
           "arrowhead": 0,
           "arrowwidth": 1
          },
          "autotypenumbers": "strict",
          "coloraxis": {
           "colorbar": {
            "outlinewidth": 0,
            "ticks": ""
           }
          },
          "colorscale": {
           "diverging": [
            [
             0,
             "#8e0152"
            ],
            [
             0.1,
             "#c51b7d"
            ],
            [
             0.2,
             "#de77ae"
            ],
            [
             0.3,
             "#f1b6da"
            ],
            [
             0.4,
             "#fde0ef"
            ],
            [
             0.5,
             "#f7f7f7"
            ],
            [
             0.6,
             "#e6f5d0"
            ],
            [
             0.7,
             "#b8e186"
            ],
            [
             0.8,
             "#7fbc41"
            ],
            [
             0.9,
             "#4d9221"
            ],
            [
             1,
             "#276419"
            ]
           ],
           "sequential": [
            [
             0,
             "#0d0887"
            ],
            [
             0.1111111111111111,
             "#46039f"
            ],
            [
             0.2222222222222222,
             "#7201a8"
            ],
            [
             0.3333333333333333,
             "#9c179e"
            ],
            [
             0.4444444444444444,
             "#bd3786"
            ],
            [
             0.5555555555555556,
             "#d8576b"
            ],
            [
             0.6666666666666666,
             "#ed7953"
            ],
            [
             0.7777777777777778,
             "#fb9f3a"
            ],
            [
             0.8888888888888888,
             "#fdca26"
            ],
            [
             1,
             "#f0f921"
            ]
           ],
           "sequentialminus": [
            [
             0,
             "#0d0887"
            ],
            [
             0.1111111111111111,
             "#46039f"
            ],
            [
             0.2222222222222222,
             "#7201a8"
            ],
            [
             0.3333333333333333,
             "#9c179e"
            ],
            [
             0.4444444444444444,
             "#bd3786"
            ],
            [
             0.5555555555555556,
             "#d8576b"
            ],
            [
             0.6666666666666666,
             "#ed7953"
            ],
            [
             0.7777777777777778,
             "#fb9f3a"
            ],
            [
             0.8888888888888888,
             "#fdca26"
            ],
            [
             1,
             "#f0f921"
            ]
           ]
          },
          "colorway": [
           "#636efa",
           "#EF553B",
           "#00cc96",
           "#ab63fa",
           "#FFA15A",
           "#19d3f3",
           "#FF6692",
           "#B6E880",
           "#FF97FF",
           "#FECB52"
          ],
          "font": {
           "color": "#2a3f5f"
          },
          "geo": {
           "bgcolor": "white",
           "lakecolor": "white",
           "landcolor": "#E5ECF6",
           "showlakes": true,
           "showland": true,
           "subunitcolor": "white"
          },
          "hoverlabel": {
           "align": "left"
          },
          "hovermode": "closest",
          "mapbox": {
           "style": "light"
          },
          "paper_bgcolor": "white",
          "plot_bgcolor": "#E5ECF6",
          "polar": {
           "angularaxis": {
            "gridcolor": "white",
            "linecolor": "white",
            "ticks": ""
           },
           "bgcolor": "#E5ECF6",
           "radialaxis": {
            "gridcolor": "white",
            "linecolor": "white",
            "ticks": ""
           }
          },
          "scene": {
           "xaxis": {
            "backgroundcolor": "#E5ECF6",
            "gridcolor": "white",
            "gridwidth": 2,
            "linecolor": "white",
            "showbackground": true,
            "ticks": "",
            "zerolinecolor": "white"
           },
           "yaxis": {
            "backgroundcolor": "#E5ECF6",
            "gridcolor": "white",
            "gridwidth": 2,
            "linecolor": "white",
            "showbackground": true,
            "ticks": "",
            "zerolinecolor": "white"
           },
           "zaxis": {
            "backgroundcolor": "#E5ECF6",
            "gridcolor": "white",
            "gridwidth": 2,
            "linecolor": "white",
            "showbackground": true,
            "ticks": "",
            "zerolinecolor": "white"
           }
          },
          "shapedefaults": {
           "line": {
            "color": "#2a3f5f"
           }
          },
          "ternary": {
           "aaxis": {
            "gridcolor": "white",
            "linecolor": "white",
            "ticks": ""
           },
           "baxis": {
            "gridcolor": "white",
            "linecolor": "white",
            "ticks": ""
           },
           "bgcolor": "#E5ECF6",
           "caxis": {
            "gridcolor": "white",
            "linecolor": "white",
            "ticks": ""
           }
          },
          "title": {
           "x": 0.05
          },
          "xaxis": {
           "automargin": true,
           "gridcolor": "white",
           "linecolor": "white",
           "ticks": "",
           "title": {
            "standoff": 15
           },
           "zerolinecolor": "white",
           "zerolinewidth": 2
          },
          "yaxis": {
           "automargin": true,
           "gridcolor": "white",
           "linecolor": "white",
           "ticks": "",
           "title": {
            "standoff": 15
           },
           "zerolinecolor": "white",
           "zerolinewidth": 2
          }
         }
        },
        "title": {
         "text": "Model Accuracy on Documentation Over Time"
        },
        "xaxis": {
         "range": [
          "2024-03-01",
          "2025-06-30"
         ],
         "title": {
          "text": "Upload/Release Date"
         }
        },
        "yaxis": {
         "title": {
          "text": "Extractive Match Score"
         }
        }
       }
      },
      "image/png": "[encoded data removed]"
     },
     "metadata": {},
     "output_type": "display_data"
    }
   ],
   "source": [
    "# Plot\n",
    "fig = go.Figure()\n",
    "\n",
    "fig.add_trace(go.Scatter(\n",
    "    x=open_df[\"date\"],\n",
    "    y=open_df[\"accuracy\"],\n",
    "    mode=\"markers+text\",\n",
    "    name=\"open-source\",\n",
    "    marker=dict(color=\"blue\", size=12, line=dict(width=1, color=\"DarkSlateGrey\")),\n",
    "    text=open_df[\"model\"],\n",
    "    textposition=[position_map.get(m, \"top right\") for m in open_df[\"model\"]],\n",
    "    textfont=dict(size=11),\n",
    "    hovertext=open_df[\"model\"],\n",
    "    hoverinfo=\"text\"\n",
    "))\n",
    "\n",
    "fig.add_trace(go.Scatter(\n",
    "    x=closed_df[\"date\"],\n",
    "    y=closed_df[\"accuracy\"],\n",
    "    mode=\"markers+text\",\n",
    "    name=\"closed-source\",\n",
    "    marker=dict(color=\"red\", size=12, line=dict(width=1, color=\"DarkSlateGrey\")),\n",
    "    text=closed_df[\"model\"],\n",
    "    textposition=[position_map.get(m, \"top right\") for m in closed_df[\"model\"]],\n",
    "    textfont=dict(size=11),\n",
    "    hovertext=closed_df[\"model\"],\n",
    "    hoverinfo=\"text\"\n",
    "))\n",
    "\n",
    "fig.add_trace(go.Scatter(\n",
    "    x=results_sorted[\"date\"],\n",
    "    y=results_sorted[\"accuracy\"],\n",
    "    mode=\"lines\",\n",
    "    line=dict(color=\"gray\", width=2, dash=\"dash\"),\n",
    "    name=\"Accuracy Trend\"\n",
    "))\n",
    "\n",
    "fig.update_layout(\n",
    "    title=\"Model Accuracy on Documentation Over Time\",\n",
    "    height=600,\n",
    "    xaxis_title=\"Upload/Release Date\",\n",
    "    yaxis_title=\"Extractive Match Score\",\n",
    "    xaxis=dict(range=[\"2024-03-01\", \"2025-06-30\"]),\n",
    "    margin=dict(l=40, r=40, t=50, b=40)\n",
    ")\n",
    "\n",
    "fig.show()"
   ]
  },
  {
   "cell_type": "code",
   "execution_count": null,
   "id": "9d59a526-1a9f-4c7e-8e45-66b7da9e4bf0",
   "metadata": {},
   "outputs": [],
   "source": [
    "pio.write_image(fig, \"model_accuracy_plot.png\", width=1600, height=600, scale=2)"
   ]
  },
  {
   "cell_type": "code",
   "execution_count": null,
   "id": "6ae8ea7b-823d-43e6-8bcb-903f874997c1",
   "metadata": {},
   "outputs": [],
   "source": []
  }
 ],
 "metadata": {
  "kernelspec": {
   "display_name": "Python 3 (ipykernel)",
   "language": "python",
   "name": "python3"
  },
  "language_info": {
   "codemirror_mode": {
    "name": "ipython",
    "version": 3
   },
   "file_extension": ".py",
   "mimetype": "text/x-python",
   "name": "python",
   "nbconvert_exporter": "python",
   "pygments_lexer": "ipython3",
   "version": "3.13.0"
  }
 },
 "nbformat": 4,
 "nbformat_minor": 5
}
